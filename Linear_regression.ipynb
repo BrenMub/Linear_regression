{
 "cells": [
  {
   "cell_type": "markdown",
   "source": [
    "# LINEAR REGRESSION"
   ],
   "metadata": {
    "collapsed": false
   },
   "id": "d482404d34da83fb"
  },
  {
   "cell_type": "markdown",
   "source": [
    "LIBRARIES"
   ],
   "metadata": {
    "collapsed": false
   },
   "id": "21014bda387bbca0"
  },
  {
   "cell_type": "code",
   "outputs": [],
   "source": [
    "from sklearn.model_selection import train_test_split\n",
    "import numpy as np\n",
    "import pandas as pd"
   ],
   "metadata": {
    "collapsed": false,
    "ExecuteTime": {
     "end_time": "2024-11-07T22:31:33.473656Z",
     "start_time": "2024-11-07T22:31:33.470655Z"
    }
   },
   "id": "e022dd9d0001d11",
   "execution_count": 72
  },
  {
   "cell_type": "markdown",
   "source": [
    "DATASET"
   ],
   "metadata": {
    "collapsed": false
   },
   "id": "cc6b79c2e236abd2"
  },
  {
   "cell_type": "code",
   "outputs": [
    {
     "data": {
      "text/plain": "          Brand Category   Color Size   Material  Price\n0   New Balance    Dress   White   XS      Nylon    182\n1   New Balance    Jeans   Black   XS       Silk     57\n2  Under Armour    Dress     Red    M       Wool    127\n3          Nike    Shoes   Green    M     Cotton     77\n4        Adidas  Sweater   White    M      Nylon    113\n5        Reebok   Jacket     Red   XL      Nylon     19\n6          Puma   Jacket     Red  XXL  Polyester     31\n7        Adidas    Dress     Red   XS      Denim     46\n8        Reebok    Dress   Black    S       Wool     97\n9        Adidas    Jeans  Yellow    L       Wool     80",
      "text/html": "<div>\n<style scoped>\n    .dataframe tbody tr th:only-of-type {\n        vertical-align: middle;\n    }\n\n    .dataframe tbody tr th {\n        vertical-align: top;\n    }\n\n    .dataframe thead th {\n        text-align: right;\n    }\n</style>\n<table border=\"1\" class=\"dataframe\">\n  <thead>\n    <tr style=\"text-align: right;\">\n      <th></th>\n      <th>Brand</th>\n      <th>Category</th>\n      <th>Color</th>\n      <th>Size</th>\n      <th>Material</th>\n      <th>Price</th>\n    </tr>\n  </thead>\n  <tbody>\n    <tr>\n      <th>0</th>\n      <td>New Balance</td>\n      <td>Dress</td>\n      <td>White</td>\n      <td>XS</td>\n      <td>Nylon</td>\n      <td>182</td>\n    </tr>\n    <tr>\n      <th>1</th>\n      <td>New Balance</td>\n      <td>Jeans</td>\n      <td>Black</td>\n      <td>XS</td>\n      <td>Silk</td>\n      <td>57</td>\n    </tr>\n    <tr>\n      <th>2</th>\n      <td>Under Armour</td>\n      <td>Dress</td>\n      <td>Red</td>\n      <td>M</td>\n      <td>Wool</td>\n      <td>127</td>\n    </tr>\n    <tr>\n      <th>3</th>\n      <td>Nike</td>\n      <td>Shoes</td>\n      <td>Green</td>\n      <td>M</td>\n      <td>Cotton</td>\n      <td>77</td>\n    </tr>\n    <tr>\n      <th>4</th>\n      <td>Adidas</td>\n      <td>Sweater</td>\n      <td>White</td>\n      <td>M</td>\n      <td>Nylon</td>\n      <td>113</td>\n    </tr>\n    <tr>\n      <th>5</th>\n      <td>Reebok</td>\n      <td>Jacket</td>\n      <td>Red</td>\n      <td>XL</td>\n      <td>Nylon</td>\n      <td>19</td>\n    </tr>\n    <tr>\n      <th>6</th>\n      <td>Puma</td>\n      <td>Jacket</td>\n      <td>Red</td>\n      <td>XXL</td>\n      <td>Polyester</td>\n      <td>31</td>\n    </tr>\n    <tr>\n      <th>7</th>\n      <td>Adidas</td>\n      <td>Dress</td>\n      <td>Red</td>\n      <td>XS</td>\n      <td>Denim</td>\n      <td>46</td>\n    </tr>\n    <tr>\n      <th>8</th>\n      <td>Reebok</td>\n      <td>Dress</td>\n      <td>Black</td>\n      <td>S</td>\n      <td>Wool</td>\n      <td>97</td>\n    </tr>\n    <tr>\n      <th>9</th>\n      <td>Adidas</td>\n      <td>Jeans</td>\n      <td>Yellow</td>\n      <td>L</td>\n      <td>Wool</td>\n      <td>80</td>\n    </tr>\n  </tbody>\n</table>\n</div>"
     },
     "execution_count": 73,
     "metadata": {},
     "output_type": "execute_result"
    }
   ],
   "source": [
    "df = pd.read_csv('clothes_price_prediction_data.csv')\n",
    "df.head(10)"
   ],
   "metadata": {
    "collapsed": false,
    "ExecuteTime": {
     "end_time": "2024-11-07T22:31:35.510881Z",
     "start_time": "2024-11-07T22:31:35.499362Z"
    }
   },
   "id": "39274e0509185f96",
   "execution_count": 73
  },
  {
   "cell_type": "code",
   "outputs": [
    {
     "data": {
      "text/plain": "             Price\ncount  1000.000000\nmean    106.289000\nstd      53.695444\nmin      10.000000\n25%      59.750000\n50%     108.000000\n75%     150.000000\nmax     199.000000",
      "text/html": "<div>\n<style scoped>\n    .dataframe tbody tr th:only-of-type {\n        vertical-align: middle;\n    }\n\n    .dataframe tbody tr th {\n        vertical-align: top;\n    }\n\n    .dataframe thead th {\n        text-align: right;\n    }\n</style>\n<table border=\"1\" class=\"dataframe\">\n  <thead>\n    <tr style=\"text-align: right;\">\n      <th></th>\n      <th>Price</th>\n    </tr>\n  </thead>\n  <tbody>\n    <tr>\n      <th>count</th>\n      <td>1000.000000</td>\n    </tr>\n    <tr>\n      <th>mean</th>\n      <td>106.289000</td>\n    </tr>\n    <tr>\n      <th>std</th>\n      <td>53.695444</td>\n    </tr>\n    <tr>\n      <th>min</th>\n      <td>10.000000</td>\n    </tr>\n    <tr>\n      <th>25%</th>\n      <td>59.750000</td>\n    </tr>\n    <tr>\n      <th>50%</th>\n      <td>108.000000</td>\n    </tr>\n    <tr>\n      <th>75%</th>\n      <td>150.000000</td>\n    </tr>\n    <tr>\n      <th>max</th>\n      <td>199.000000</td>\n    </tr>\n  </tbody>\n</table>\n</div>"
     },
     "execution_count": 74,
     "metadata": {},
     "output_type": "execute_result"
    }
   ],
   "source": [
    "df.describe()"
   ],
   "metadata": {
    "collapsed": false,
    "ExecuteTime": {
     "end_time": "2024-11-07T22:31:38.230767Z",
     "start_time": "2024-11-07T22:31:38.222739Z"
    }
   },
   "id": "723d43868b614ad5",
   "execution_count": 74
  },
  {
   "cell_type": "markdown",
   "source": [
    "CLEAN DATA"
   ],
   "metadata": {
    "collapsed": false
   },
   "id": "36b080f7aac7082a"
  },
  {
   "cell_type": "markdown",
   "source": [
    "In this dataset, there are five categorical columns and we are going to create a dummy columns for them."
   ],
   "metadata": {
    "collapsed": false
   },
   "id": "e25ca098598a47f8"
  },
  {
   "cell_type": "code",
   "outputs": [],
   "source": [
    "df_cleaned = df.copy()"
   ],
   "metadata": {
    "collapsed": false,
    "ExecuteTime": {
     "end_time": "2024-11-07T22:32:13.771212Z",
     "start_time": "2024-11-07T22:32:13.766211Z"
    }
   },
   "id": "45c52c94e7470b2",
   "execution_count": 75
  },
  {
   "cell_type": "code",
   "outputs": [],
   "source": [
    "price = df_cleaned.loc[:,'Price']\n",
    "features = df_cleaned.drop('Price', axis='columns', inplace=False)"
   ],
   "metadata": {
    "collapsed": false,
    "ExecuteTime": {
     "end_time": "2024-11-07T22:32:16.569695Z",
     "start_time": "2024-11-07T22:32:16.565175Z"
    }
   },
   "id": "42fec61e4e2c2833",
   "execution_count": 76
  },
  {
   "cell_type": "code",
   "outputs": [],
   "source": [
    "df_cleaned['Dress'] = (df_cleaned['Category'].loc[:] == 'Dress').astype(int)"
   ],
   "metadata": {
    "collapsed": false,
    "ExecuteTime": {
     "end_time": "2024-11-07T21:35:19.574032Z",
     "start_time": "2024-11-07T21:35:19.569017Z"
    }
   },
   "id": "8e8d6fe514692288",
   "execution_count": 25
  },
  {
   "cell_type": "code",
   "outputs": [
    {
     "data": {
      "text/plain": "          Brand Category  Color Size Material  Price\n0   New Balance    Dress  White   XS    Nylon    182\n1   New Balance    Jeans  Black   XS     Silk     57\n2  Under Armour    Dress    Red    M     Wool    127\n3          Nike    Shoes  Green    M   Cotton     77\n4        Adidas  Sweater  White    M    Nylon    113",
      "text/html": "<div>\n<style scoped>\n    .dataframe tbody tr th:only-of-type {\n        vertical-align: middle;\n    }\n\n    .dataframe tbody tr th {\n        vertical-align: top;\n    }\n\n    .dataframe thead th {\n        text-align: right;\n    }\n</style>\n<table border=\"1\" class=\"dataframe\">\n  <thead>\n    <tr style=\"text-align: right;\">\n      <th></th>\n      <th>Brand</th>\n      <th>Category</th>\n      <th>Color</th>\n      <th>Size</th>\n      <th>Material</th>\n      <th>Price</th>\n    </tr>\n  </thead>\n  <tbody>\n    <tr>\n      <th>0</th>\n      <td>New Balance</td>\n      <td>Dress</td>\n      <td>White</td>\n      <td>XS</td>\n      <td>Nylon</td>\n      <td>182</td>\n    </tr>\n    <tr>\n      <th>1</th>\n      <td>New Balance</td>\n      <td>Jeans</td>\n      <td>Black</td>\n      <td>XS</td>\n      <td>Silk</td>\n      <td>57</td>\n    </tr>\n    <tr>\n      <th>2</th>\n      <td>Under Armour</td>\n      <td>Dress</td>\n      <td>Red</td>\n      <td>M</td>\n      <td>Wool</td>\n      <td>127</td>\n    </tr>\n    <tr>\n      <th>3</th>\n      <td>Nike</td>\n      <td>Shoes</td>\n      <td>Green</td>\n      <td>M</td>\n      <td>Cotton</td>\n      <td>77</td>\n    </tr>\n    <tr>\n      <th>4</th>\n      <td>Adidas</td>\n      <td>Sweater</td>\n      <td>White</td>\n      <td>M</td>\n      <td>Nylon</td>\n      <td>113</td>\n    </tr>\n  </tbody>\n</table>\n</div>"
     },
     "execution_count": 61,
     "metadata": {},
     "output_type": "execute_result"
    }
   ],
   "source": [
    "df_cleaned.head()"
   ],
   "metadata": {
    "collapsed": false,
    "ExecuteTime": {
     "end_time": "2024-11-07T22:22:19.174899Z",
     "start_time": "2024-11-07T22:22:19.166899Z"
    }
   },
   "id": "8c636d25705e291e",
   "execution_count": 61
  },
  {
   "cell_type": "code",
   "outputs": [],
   "source": [
    "ready_values = {}\n",
    "for column in features:\n",
    "   for value in features[column]:\n",
    "       if value not in ready_values:\n",
    "           features[value] = (features[column].loc[:] == value).astype(int)"
   ],
   "metadata": {
    "collapsed": false,
    "ExecuteTime": {
     "end_time": "2024-11-07T22:32:38.423157Z",
     "start_time": "2024-11-07T22:32:37.397569Z"
    }
   },
   "id": "890093d098899b67",
   "execution_count": 77
  },
  {
   "cell_type": "code",
   "outputs": [
    {
     "data": {
      "text/plain": "          Brand Category  Color Size Material  New Balance  Under Armour  \\\n0   New Balance    Dress  White   XS    Nylon            1             0   \n1   New Balance    Jeans  Black   XS     Silk            1             0   \n2  Under Armour    Dress    Red    M     Wool            0             1   \n3          Nike    Shoes  Green    M   Cotton            0             0   \n4        Adidas  Sweater  White    M    Nylon            0             0   \n\n   Nike  Adidas  Reebok  ...  XL  XXL  S  L  Nylon  Silk  Wool  Cotton  \\\n0     0       0       0  ...   0    0  0  0      1     0     0       0   \n1     0       0       0  ...   0    0  0  0      0     1     0       0   \n2     0       0       0  ...   0    0  0  0      0     0     1       0   \n3     1       0       0  ...   0    0  0  0      0     0     0       1   \n4     0       1       0  ...   0    0  0  0      1     0     0       0   \n\n   Polyester  Denim  \n0          0      0  \n1          0      0  \n2          0      0  \n3          0      0  \n4          0      0  \n\n[5 rows x 35 columns]",
      "text/html": "<div>\n<style scoped>\n    .dataframe tbody tr th:only-of-type {\n        vertical-align: middle;\n    }\n\n    .dataframe tbody tr th {\n        vertical-align: top;\n    }\n\n    .dataframe thead th {\n        text-align: right;\n    }\n</style>\n<table border=\"1\" class=\"dataframe\">\n  <thead>\n    <tr style=\"text-align: right;\">\n      <th></th>\n      <th>Brand</th>\n      <th>Category</th>\n      <th>Color</th>\n      <th>Size</th>\n      <th>Material</th>\n      <th>New Balance</th>\n      <th>Under Armour</th>\n      <th>Nike</th>\n      <th>Adidas</th>\n      <th>Reebok</th>\n      <th>...</th>\n      <th>XL</th>\n      <th>XXL</th>\n      <th>S</th>\n      <th>L</th>\n      <th>Nylon</th>\n      <th>Silk</th>\n      <th>Wool</th>\n      <th>Cotton</th>\n      <th>Polyester</th>\n      <th>Denim</th>\n    </tr>\n  </thead>\n  <tbody>\n    <tr>\n      <th>0</th>\n      <td>New Balance</td>\n      <td>Dress</td>\n      <td>White</td>\n      <td>XS</td>\n      <td>Nylon</td>\n      <td>1</td>\n      <td>0</td>\n      <td>0</td>\n      <td>0</td>\n      <td>0</td>\n      <td>...</td>\n      <td>0</td>\n      <td>0</td>\n      <td>0</td>\n      <td>0</td>\n      <td>1</td>\n      <td>0</td>\n      <td>0</td>\n      <td>0</td>\n      <td>0</td>\n      <td>0</td>\n    </tr>\n    <tr>\n      <th>1</th>\n      <td>New Balance</td>\n      <td>Jeans</td>\n      <td>Black</td>\n      <td>XS</td>\n      <td>Silk</td>\n      <td>1</td>\n      <td>0</td>\n      <td>0</td>\n      <td>0</td>\n      <td>0</td>\n      <td>...</td>\n      <td>0</td>\n      <td>0</td>\n      <td>0</td>\n      <td>0</td>\n      <td>0</td>\n      <td>1</td>\n      <td>0</td>\n      <td>0</td>\n      <td>0</td>\n      <td>0</td>\n    </tr>\n    <tr>\n      <th>2</th>\n      <td>Under Armour</td>\n      <td>Dress</td>\n      <td>Red</td>\n      <td>M</td>\n      <td>Wool</td>\n      <td>0</td>\n      <td>1</td>\n      <td>0</td>\n      <td>0</td>\n      <td>0</td>\n      <td>...</td>\n      <td>0</td>\n      <td>0</td>\n      <td>0</td>\n      <td>0</td>\n      <td>0</td>\n      <td>0</td>\n      <td>1</td>\n      <td>0</td>\n      <td>0</td>\n      <td>0</td>\n    </tr>\n    <tr>\n      <th>3</th>\n      <td>Nike</td>\n      <td>Shoes</td>\n      <td>Green</td>\n      <td>M</td>\n      <td>Cotton</td>\n      <td>0</td>\n      <td>0</td>\n      <td>1</td>\n      <td>0</td>\n      <td>0</td>\n      <td>...</td>\n      <td>0</td>\n      <td>0</td>\n      <td>0</td>\n      <td>0</td>\n      <td>0</td>\n      <td>0</td>\n      <td>0</td>\n      <td>1</td>\n      <td>0</td>\n      <td>0</td>\n    </tr>\n    <tr>\n      <th>4</th>\n      <td>Adidas</td>\n      <td>Sweater</td>\n      <td>White</td>\n      <td>M</td>\n      <td>Nylon</td>\n      <td>0</td>\n      <td>0</td>\n      <td>0</td>\n      <td>1</td>\n      <td>0</td>\n      <td>...</td>\n      <td>0</td>\n      <td>0</td>\n      <td>0</td>\n      <td>0</td>\n      <td>1</td>\n      <td>0</td>\n      <td>0</td>\n      <td>0</td>\n      <td>0</td>\n      <td>0</td>\n    </tr>\n  </tbody>\n</table>\n<p>5 rows × 35 columns</p>\n</div>"
     },
     "execution_count": 79,
     "metadata": {},
     "output_type": "execute_result"
    }
   ],
   "source": [
    "features.head()"
   ],
   "metadata": {
    "collapsed": false,
    "ExecuteTime": {
     "end_time": "2024-11-07T22:32:57.069402Z",
     "start_time": "2024-11-07T22:32:57.055891Z"
    }
   },
   "id": "9f8e4447453392fb",
   "execution_count": 79
  },
  {
   "cell_type": "code",
   "outputs": [],
   "source": [
    "X_train, X_test, y_train, y_test = train_test_split(\n",
    "    features, price, test_size=0.20, random_state=42)"
   ],
   "metadata": {
    "collapsed": false,
    "ExecuteTime": {
     "end_time": "2024-11-05T05:00:18.715640Z",
     "start_time": "2024-11-05T05:00:18.708620Z"
    }
   },
   "id": "230a9eff83b7f16f",
   "execution_count": 10
  }
 ],
 "metadata": {
  "kernelspec": {
   "display_name": "Python 3",
   "language": "python",
   "name": "python3"
  },
  "language_info": {
   "codemirror_mode": {
    "name": "ipython",
    "version": 2
   },
   "file_extension": ".py",
   "mimetype": "text/x-python",
   "name": "python",
   "nbconvert_exporter": "python",
   "pygments_lexer": "ipython2",
   "version": "2.7.6"
  }
 },
 "nbformat": 4,
 "nbformat_minor": 5
}
