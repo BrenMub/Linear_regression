{
 "cells": [
  {
   "cell_type": "code",
   "execution_count": 13,
   "metadata": {},
   "outputs": [],
   "source": [
    "# Paquetes\n",
    "import pandas as pd\n",
    "import numpy as np\n",
    "import re\n",
    "\n",
    "# Para cargar archivos de excel\n",
    "import openpyxl"
   ]
  },
  {
   "cell_type": "code",
   "execution_count": 14,
   "metadata": {},
   "outputs": [],
   "source": [
    "# Primero cargamos el archivo base de Excel y vemos las hojas que contiene\n",
    "xls = pd.ExcelFile(\"Guapinol.xlsx\")\n",
    "hojas = xls.sheet_names\n",
    "\n",
    "# Seleccionamos las hojas que necesitamos y las ponemos en una lista\n",
    "hojasMinimos = [hoja for hoja in hojas if \"MIN\" in hoja]\n",
    "\n",
    "# Eliminamos los espacios en blanco de los nombres de las hojas (keys del diccionario)\n",
    "hojasMinimos = [i.strip() for i in hojasMinimos]\n",
    "\n",
    "# Cargamos los datos de las hojas seleccionadas en un diccionario\n",
    "datosMinimos = {}\n",
    "for name in hojasMinimos:\n",
    "    datosMinimos[name] = xls.parse(name)\n",
    "\n"
   ]
  },
  {
   "cell_type": "code",
   "execution_count": 15,
   "metadata": {},
   "outputs": [
    {
     "name": "stdout",
     "output_type": "stream",
     "text": [
      "GUAPINOL 77 78 MIN\n"
     ]
    }
   ],
   "source": [
    "primerHoja =next(iter(datosMinimos))\n",
    "print(primerHoja)"
   ]
  },
  {
   "cell_type": "code",
   "execution_count": 16,
   "metadata": {},
   "outputs": [
    {
     "data": {
      "text/plain": [
       "pandas.core.frame.DataFrame"
      ]
     },
     "execution_count": 16,
     "metadata": {},
     "output_type": "execute_result"
    }
   ],
   "source": [
    "# Para verificar el tipo de objeto en cada entrada del diccionario\n",
    "\n",
    "type(datosMinimos[primerHoja])"
   ]
  },
  {
   "cell_type": "code",
   "execution_count": 17,
   "metadata": {},
   "outputs": [
    {
     "data": {
      "text/html": [
       "<div>\n",
       "<style scoped>\n",
       "    .dataframe tbody tr th:only-of-type {\n",
       "        vertical-align: middle;\n",
       "    }\n",
       "\n",
       "    .dataframe tbody tr th {\n",
       "        vertical-align: top;\n",
       "    }\n",
       "\n",
       "    .dataframe thead th {\n",
       "        text-align: right;\n",
       "    }\n",
       "</style>\n",
       "<table border=\"1\" class=\"dataframe\">\n",
       "  <thead>\n",
       "    <tr style=\"text-align: right;\">\n",
       "      <th></th>\n",
       "      <th>MES</th>\n",
       "      <th>DIA</th>\n",
       "      <th>ESC .</th>\n",
       "      <th>MC/SEG</th>\n",
       "    </tr>\n",
       "  </thead>\n",
       "  <tbody>\n",
       "    <tr>\n",
       "      <th>0</th>\n",
       "      <td>JUL</td>\n",
       "      <td>16</td>\n",
       "      <td>0.24</td>\n",
       "      <td>3.61</td>\n",
       "    </tr>\n",
       "    <tr>\n",
       "      <th>1</th>\n",
       "      <td>AGO</td>\n",
       "      <td>1</td>\n",
       "      <td>0.25</td>\n",
       "      <td>3.93</td>\n",
       "    </tr>\n",
       "    <tr>\n",
       "      <th>2</th>\n",
       "      <td>SET</td>\n",
       "      <td>13</td>\n",
       "      <td>0.32</td>\n",
       "      <td>4.81</td>\n",
       "    </tr>\n",
       "    <tr>\n",
       "      <th>3</th>\n",
       "      <td>OCT</td>\n",
       "      <td>8</td>\n",
       "      <td>0.44</td>\n",
       "      <td>7.59</td>\n",
       "    </tr>\n",
       "    <tr>\n",
       "      <th>4</th>\n",
       "      <td>NOV</td>\n",
       "      <td>11</td>\n",
       "      <td>0.49</td>\n",
       "      <td>8.99</td>\n",
       "    </tr>\n",
       "  </tbody>\n",
       "</table>\n",
       "</div>"
      ],
      "text/plain": [
       "   MES  DIA  ESC .  MC/SEG\n",
       "0  JUL   16   0.24    3.61\n",
       "1  AGO    1   0.25    3.93\n",
       "2  SET   13   0.32    4.81\n",
       "3  OCT    8   0.44    7.59\n",
       "4  NOV   11   0.49    8.99"
      ]
     },
     "execution_count": 17,
     "metadata": {},
     "output_type": "execute_result"
    }
   ],
   "source": [
    "# Para acceder a cada hoja se usa el siguiente formato\n",
    "\n",
    "datosMinimos[primerHoja].head(5)"
   ]
  },
  {
   "cell_type": "code",
   "execution_count": 18,
   "metadata": {},
   "outputs": [
    {
     "data": {
      "text/html": [
       "<div>\n",
       "<style scoped>\n",
       "    .dataframe tbody tr th:only-of-type {\n",
       "        vertical-align: middle;\n",
       "    }\n",
       "\n",
       "    .dataframe tbody tr th {\n",
       "        vertical-align: top;\n",
       "    }\n",
       "\n",
       "    .dataframe thead th {\n",
       "        text-align: right;\n",
       "    }\n",
       "</style>\n",
       "<table border=\"1\" class=\"dataframe\">\n",
       "  <thead>\n",
       "    <tr style=\"text-align: right;\">\n",
       "      <th></th>\n",
       "      <th>MES</th>\n",
       "      <th>DIA</th>\n",
       "      <th>ESC .</th>\n",
       "      <th>MC/SEG</th>\n",
       "    </tr>\n",
       "  </thead>\n",
       "  <tbody>\n",
       "    <tr>\n",
       "      <th>0</th>\n",
       "      <td>JUL</td>\n",
       "      <td>16</td>\n",
       "      <td>0.24</td>\n",
       "      <td>3.61</td>\n",
       "    </tr>\n",
       "    <tr>\n",
       "      <th>1</th>\n",
       "      <td>AGO</td>\n",
       "      <td>1</td>\n",
       "      <td>0.25</td>\n",
       "      <td>3.93</td>\n",
       "    </tr>\n",
       "    <tr>\n",
       "      <th>2</th>\n",
       "      <td>SET</td>\n",
       "      <td>13</td>\n",
       "      <td>0.32</td>\n",
       "      <td>4.81</td>\n",
       "    </tr>\n",
       "    <tr>\n",
       "      <th>3</th>\n",
       "      <td>OCT</td>\n",
       "      <td>8</td>\n",
       "      <td>0.44</td>\n",
       "      <td>7.59</td>\n",
       "    </tr>\n",
       "    <tr>\n",
       "      <th>4</th>\n",
       "      <td>NOV</td>\n",
       "      <td>11</td>\n",
       "      <td>0.49</td>\n",
       "      <td>8.99</td>\n",
       "    </tr>\n",
       "  </tbody>\n",
       "</table>\n",
       "</div>"
      ],
      "text/plain": [
       "   MES  DIA  ESC .  MC/SEG\n",
       "0  JUL   16   0.24    3.61\n",
       "1  AGO    1   0.25    3.93\n",
       "2  SET   13   0.32    4.81\n",
       "3  OCT    8   0.44    7.59\n",
       "4  NOV   11   0.49    8.99"
      ]
     },
     "execution_count": 18,
     "metadata": {},
     "output_type": "execute_result"
    }
   ],
   "source": [
    "# Se busca primero el índice con la primer entrada no NaN\n",
    "primerNoNaN = datosMinimos[primerHoja]['MC/SEG'].first_valid_index()\n",
    "\n",
    "# Se eliminan las primeras entradas que son NaN\n",
    "\n",
    "datosMinimos[primerHoja] = datosMinimos[primerHoja].iloc[primerNoNaN:]\n",
    "datosMinimos[primerHoja].head(5)"
   ]
  },
  {
   "cell_type": "code",
   "execution_count": 24,
   "metadata": {},
   "outputs": [
    {
     "name": "stdout",
     "output_type": "stream",
     "text": [
      "Columnas en GUAPINOL 77 78 MIN: ['MES', 'DIA', 'ESC', 'MC/SEG', 'ANO']\n",
      "Columnas en GUAPINOL 78 79 MIN: ['DIA', 'MES', 'ANO', 'ESC', 'MC/SEG']\n",
      "Columnas en GUAPINOL 78 80 MIN: ['MES', 'DIA', 'ESC', 'MC/SEC']\n",
      "Advertencia: GUAPINOL 78 80 MIN no tiene todas las columnas necesarias.\n",
      "Columnas en GUAPINOL 80 81 MIN: ['DIA', 'MES', 'ANO', 'ESC', 'MC/SEG']\n",
      "Columnas en GUAPINOL 81 82 MIN: ['DIA', 'MES', 'ANO', 'ESC', 'MC/SEG']\n",
      "Columnas en GUAPINOL 82 83 MIN: ['DIA', 'MES', 'ANO', 'ESC', 'MC/SEG']\n",
      "Columnas en GUAPINOL 83 84 MIN: ['DIA', 'MES', 'ANO', 'ESC', 'MC/SEG']\n",
      "Columnas en GUAPINOL 84 85 MIN: ['MES', 'DIA', 'ESC', 'MC/SEG']\n",
      "Columnas en GUAPINOL 85 86 MIN: ['DIA', 'MES', 'ANO', 'ESC', 'MC/SEG']\n",
      "Columnas en GUAPINOL 86 87 MIN: ['DIA', 'MES', 'ANO', 'ESC', 'MC/SEG']\n",
      "Columnas en GUAPINOL 87 88 MIN: ['DIA', 'MES', 'ANO', 'ESC', 'MC/SEG']\n",
      "   DIA  MES   ANO   ESC  MC/SEG\n",
      "0   16  JUL  1977  0.24    3.61\n",
      "1    1  AGO  1977  0.25    3.93\n",
      "2   13  SET  1977  0.32    4.81\n",
      "3    8  OCT  1977  0.44    7.59\n",
      "4   11  NOV  1977  0.49    8.99\n"
     ]
    }
   ],
   "source": [
    "for name in hojasMinimos:\n",
    "    # Elimina espacios en blanco en los nombres de las columnas\n",
    "    datosMinimos[name].rename(columns=lambda x: x.strip(), inplace=True)\n",
    "\n",
    "    # Renombramos columnas inconsistentes\n",
    "    if 'ESC .' in datosMinimos[name].columns:\n",
    "        datosMinimos[name].rename(columns={'ESC .': 'ESC'}, inplace=True)\n",
    "    if 'MC/ S' in datosMinimos[name].columns:\n",
    "        datosMinimos[name].rename(columns={'MC/ S': 'MC/SEG'}, inplace=True)\n",
    "    \n",
    "    # Eliminar columnas 'Unnamed:' si existen (como 'Unnamed: 4', etc.)\n",
    "    datosMinimos[name] = datosMinimos[name].loc[:, ~datosMinimos[name].columns.str.contains('^Unnamed')]\n",
    "\n",
    "    # Verifica las columnas\n",
    "    print(f\"Columnas en {name}: {list(datosMinimos[name].columns)}\")\n",
    "\n",
    "    # Verifica si tiene todas las columnas necesarias\n",
    "    columnas_necesarias = {'MES', 'DIA', 'ESC', 'MC/SEG'}\n",
    "    columnas_presentes = set(datosMinimos[name].columns)\n",
    "\n",
    "    if not columnas_necesarias.issubset(columnas_presentes):\n",
    "        print(f\"Advertencia: {name} no tiene todas las columnas necesarias.\")\n",
    "        continue  # Saltar esta hoja si no tiene todas las columnas\n",
    "\n",
    "    # Establece la lista de los meses correspondientes al primer año en el año hidrológico\n",
    "    lista = datosMinimos[name]['MES'].isin(['MAY','JUN','JUL','AGO','SET','OCT','NOV','DIC'])\n",
    "\n",
    "    # Se crea la columna Año\n",
    "    datosMinimos[name].loc[:, 'ANO'] = '0'\n",
    "\n",
    "    # Extrae el primer año de la hoja (ver código anterior para extracción correcta)\n",
    "    match = re.search(r'(\\d{2})\\s+\\d{2}', name)\n",
    "    if not match:\n",
    "        print(f\"Error al extraer el año en el nombre de la hoja: {name}\")\n",
    "        continue\n",
    "\n",
    "    year_base = '19' + match.group(1)  # Convertir a formato completo (ej. '1977')\n",
    "\n",
    "    # Se establece el año según corresponda\n",
    "    datosMinimos[name].loc[lista, 'ANO'] = year_base\n",
    "    datosMinimos[name].loc[~lista, 'ANO'] = str(int(year_base) + 1)\n",
    "\n",
    "    # Se reordenan las columnas correctamente\n",
    "    datosMinimos[name] = datosMinimos[name][['DIA', 'MES', 'ANO', 'ESC', 'MC/SEG']]\n",
    "\n",
    "# Verifica si la hoja principal existe antes de llamarla\n",
    "if primerHoja in datosMinimos:\n",
    "    print(datosMinimos[primerHoja].head(5))\n",
    "else:\n",
    "    print(f\"La hoja {primerHoja} no existe en datosMinimos\")\n"
   ]
  },
  {
   "cell_type": "code",
   "execution_count": 30,
   "metadata": {},
   "outputs": [
    {
     "data": {
      "text/html": [
       "<div>\n",
       "<style scoped>\n",
       "    .dataframe tbody tr th:only-of-type {\n",
       "        vertical-align: middle;\n",
       "    }\n",
       "\n",
       "    .dataframe tbody tr th {\n",
       "        vertical-align: top;\n",
       "    }\n",
       "\n",
       "    .dataframe thead th {\n",
       "        text-align: right;\n",
       "    }\n",
       "</style>\n",
       "<table border=\"1\" class=\"dataframe\">\n",
       "  <thead>\n",
       "    <tr style=\"text-align: right;\">\n",
       "      <th></th>\n",
       "      <th>DIA</th>\n",
       "      <th>MES</th>\n",
       "      <th>ANO</th>\n",
       "      <th>ESC</th>\n",
       "      <th>MC/SEG</th>\n",
       "    </tr>\n",
       "  </thead>\n",
       "  <tbody>\n",
       "    <tr>\n",
       "      <th>0</th>\n",
       "      <td>16</td>\n",
       "      <td>JUL</td>\n",
       "      <td>1977</td>\n",
       "      <td>0.24</td>\n",
       "      <td>3.61</td>\n",
       "    </tr>\n",
       "    <tr>\n",
       "      <th>1</th>\n",
       "      <td>1</td>\n",
       "      <td>AGO</td>\n",
       "      <td>1977</td>\n",
       "      <td>0.25</td>\n",
       "      <td>3.93</td>\n",
       "    </tr>\n",
       "    <tr>\n",
       "      <th>2</th>\n",
       "      <td>13</td>\n",
       "      <td>SET</td>\n",
       "      <td>1977</td>\n",
       "      <td>0.32</td>\n",
       "      <td>4.81</td>\n",
       "    </tr>\n",
       "    <tr>\n",
       "      <th>3</th>\n",
       "      <td>8</td>\n",
       "      <td>OCT</td>\n",
       "      <td>1977</td>\n",
       "      <td>0.44</td>\n",
       "      <td>7.59</td>\n",
       "    </tr>\n",
       "    <tr>\n",
       "      <th>4</th>\n",
       "      <td>11</td>\n",
       "      <td>NOV</td>\n",
       "      <td>1977</td>\n",
       "      <td>0.49</td>\n",
       "      <td>8.99</td>\n",
       "    </tr>\n",
       "    <tr>\n",
       "      <th>5</th>\n",
       "      <td>31</td>\n",
       "      <td>DIC</td>\n",
       "      <td>1977</td>\n",
       "      <td>0.30</td>\n",
       "      <td>5.10</td>\n",
       "    </tr>\n",
       "    <tr>\n",
       "      <th>6</th>\n",
       "      <td>31</td>\n",
       "      <td>ENE</td>\n",
       "      <td>1978</td>\n",
       "      <td>0.22</td>\n",
       "      <td>3.23</td>\n",
       "    </tr>\n",
       "    <tr>\n",
       "      <th>7</th>\n",
       "      <td>22</td>\n",
       "      <td>FEB</td>\n",
       "      <td>1978</td>\n",
       "      <td>0.20</td>\n",
       "      <td>2.90</td>\n",
       "    </tr>\n",
       "    <tr>\n",
       "      <th>8</th>\n",
       "      <td>27</td>\n",
       "      <td>MAR</td>\n",
       "      <td>1978</td>\n",
       "      <td>0.17</td>\n",
       "      <td>2.37</td>\n",
       "    </tr>\n",
       "    <tr>\n",
       "      <th>9</th>\n",
       "      <td>28</td>\n",
       "      <td>ABR</td>\n",
       "      <td>1978</td>\n",
       "      <td>0.13</td>\n",
       "      <td>1.62</td>\n",
       "    </tr>\n",
       "  </tbody>\n",
       "</table>\n",
       "</div>"
      ],
      "text/plain": [
       "   DIA  MES   ANO   ESC  MC/SEG\n",
       "0   16  JUL  1977  0.24    3.61\n",
       "1    1  AGO  1977  0.25    3.93\n",
       "2   13  SET  1977  0.32    4.81\n",
       "3    8  OCT  1977  0.44    7.59\n",
       "4   11  NOV  1977  0.49    8.99\n",
       "5   31  DIC  1977  0.30    5.10\n",
       "6   31  ENE  1978  0.22    3.23\n",
       "7   22  FEB  1978  0.20    2.90\n",
       "8   27  MAR  1978  0.17    2.37\n",
       "9   28  ABR  1978  0.13    1.62"
      ]
     },
     "execution_count": 30,
     "metadata": {},
     "output_type": "execute_result"
    }
   ],
   "source": [
    "datosMinimos[primerHoja].tail(40)"
   ]
  },
  {
   "cell_type": "code",
   "execution_count": 31,
   "metadata": {},
   "outputs": [
    {
     "data": {
      "text/plain": [
       "pandas.core.frame.DataFrame"
      ]
     },
     "execution_count": 31,
     "metadata": {},
     "output_type": "execute_result"
    }
   ],
   "source": [
    "# Se juntan todas las entradas del diccionario\n",
    "Minimos = pd.concat(datosMinimos.values(), ignore_index=True)\n",
    "\n",
    "# Se verifica que el resultado sea un df\n",
    "type(Minimos)"
   ]
  },
  {
   "cell_type": "code",
   "execution_count": 33,
   "metadata": {},
   "outputs": [],
   "source": [
    "Minimos.to_csv('NagatacMinimos.csv', index=False)"
   ]
  },
  {
   "cell_type": "code",
   "execution_count": null,
   "metadata": {},
   "outputs": [],
   "source": []
  }
 ],
 "metadata": {
  "kernelspec": {
   "display_name": "venv",
   "language": "python",
   "name": "python3"
  },
  "language_info": {
   "codemirror_mode": {
    "name": "ipython",
    "version": 3
   },
   "file_extension": ".py",
   "mimetype": "text/x-python",
   "name": "python",
   "nbconvert_exporter": "python",
   "pygments_lexer": "ipython3",
   "version": "3.10.11"
  }
 },
 "nbformat": 4,
 "nbformat_minor": 2
}
